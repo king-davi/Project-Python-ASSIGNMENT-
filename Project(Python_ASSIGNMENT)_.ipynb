{
  "nbformat": 4,
  "nbformat_minor": 0,
  "metadata": {
    "colab": {
      "provenance": [],
      "collapsed_sections": [],
      "authorship_tag": "ABX9TyNGqfyYVaiNOh/bHX5LbPch",
      "include_colab_link": true
    },
    "kernelspec": {
      "name": "python3",
      "display_name": "Python 3"
    },
    "language_info": {
      "name": "python"
    }
  },
  "cells": [
    {
      "cell_type": "markdown",
      "metadata": {
        "id": "view-in-github",
        "colab_type": "text"
      },
      "source": [
        "<a href=\"https://colab.research.google.com/github/king-davi/Project-Python-ASSIGNMENT-/blob/main/Project(Python_ASSIGNMENT)_.ipynb\" target=\"_parent\"><img src=\"https://colab.research.google.com/assets/colab-badge.svg\" alt=\"Open In Colab\"/></a>"
      ]
    },
    {
      "cell_type": "markdown",
      "source": [
        "Question 1"
      ],
      "metadata": {
        "id": "ImD-CQrrg2sS"
      }
    },
    {
      "cell_type": "code",
      "execution_count": 12,
      "metadata": {
        "colab": {
          "base_uri": "https://localhost:8080/"
        },
        "id": "dJ7FGKLoruxJ",
        "outputId": "18f774f4-cffd-4738-9592-78823a432820"
      },
      "outputs": [
        {
          "output_type": "stream",
          "name": "stdout",
          "text": [
            "input your first name:olamide\n",
            "input your last name:badmus\n",
            "Hello badmus olamide\n"
          ]
        }
      ],
      "source": [
        "fname=input(\"input your first name:\")\n",
        "lname=input(\"input your last name:\")\n",
        "\n",
        "print(\"Hello\"+\" \"+lname+\" \" +fname)"
      ]
    },
    {
      "cell_type": "markdown",
      "source": [
        "QUESTION 2\n"
      ],
      "metadata": {
        "id": "mFXArKxHoJ9S"
      }
    },
    {
      "cell_type": "code",
      "source": [
        "a =int(input(\"Enter a number:  \"))\n",
        "n1 =int(\" %s\" % a)\n",
        "n2=int(\"%s%s \" %(a,a))\n",
        "n3=int(\" %s%s%s\"  % (a,a,a))\n",
        "print(n1 + n2 + n3)\n"
      ],
      "metadata": {
        "colab": {
          "base_uri": "https://localhost:8080/"
        },
        "id": "ElkjsahQg1BC",
        "outputId": "8f01237d-9934-407a-9b7d-1d7163e92e1f"
      },
      "execution_count": 19,
      "outputs": [
        {
          "output_type": "stream",
          "name": "stdout",
          "text": [
            "Enter a number:  5\n",
            "615\n"
          ]
        }
      ]
    },
    {
      "cell_type": "markdown",
      "source": [
        "QUESTION 3"
      ],
      "metadata": {
        "id": "Lvy8zNOJAyOM"
      }
    },
    {
      "cell_type": "code",
      "source": [
        "number = int(input(\"Enter a number :  \"))\n",
        "if(number % 2) == 0:\n",
        "   print(\"{0} is even number\".format(number))\n",
        "else:\n",
        "      print(\"{0} is odd number\".format(number))"
      ],
      "metadata": {
        "colab": {
          "base_uri": "https://localhost:8080/"
        },
        "id": "4aVaX661u0hO",
        "outputId": "32116b80-a945-42c3-b8c0-1697d9bf6cd6"
      },
      "execution_count": 10,
      "outputs": [
        {
          "output_type": "stream",
          "name": "stdout",
          "text": [
            "Enter a number :  11\n",
            "11 is odd number\n"
          ]
        }
      ]
    },
    {
      "cell_type": "markdown",
      "source": [
        "QUESTION 3"
      ],
      "metadata": {
        "id": "uwseXVglA4AB"
      }
    },
    {
      "cell_type": "code",
      "source": [
        "number = int(input(\"Enter a number :  \"))\n",
        "if(number % 2) == 0:\n",
        "   print(\"{0} is even number\".format(number))\n",
        "else:\n",
        "      print(\"{0} is odd number\".format(number))"
      ],
      "metadata": {
        "colab": {
          "base_uri": "https://localhost:8080/"
        },
        "id": "NRJgHSuMAonj",
        "outputId": "efa298e6-1afb-4497-8cda-2118adde54fb"
      },
      "execution_count": 11,
      "outputs": [
        {
          "output_type": "stream",
          "name": "stdout",
          "text": [
            "Enter a number :  32\n",
            "32 is even number\n"
          ]
        }
      ]
    },
    {
      "cell_type": "markdown",
      "source": [
        "QUESTION 4"
      ],
      "metadata": {
        "id": "qgUIBaFMIpBx"
      }
    },
    {
      "cell_type": "code",
      "source": [
        "num=int(input(\"enter the upper range:\"))\n",
        "for i in range(0,num):\n",
        "    if (i%7==0 and i%5==0):\n",
        "        print(i) "
      ],
      "metadata": {
        "colab": {
          "base_uri": "https://localhost:8080/"
        },
        "id": "rp8uVcSkA6wt",
        "outputId": "8422c690-de6f-4c5d-fdd9-2f63208917f1"
      },
      "execution_count": 1,
      "outputs": [
        {
          "output_type": "stream",
          "name": "stdout",
          "text": [
            "enter the upper range:1000\n",
            "0\n",
            "35\n",
            "70\n",
            "105\n",
            "140\n",
            "175\n",
            "210\n",
            "245\n",
            "280\n",
            "315\n",
            "350\n",
            "385\n",
            "420\n",
            "455\n",
            "490\n",
            "525\n",
            "560\n",
            "595\n",
            "630\n",
            "665\n",
            "700\n",
            "735\n",
            "770\n",
            "805\n",
            "840\n",
            "875\n",
            "910\n",
            "945\n",
            "980\n"
          ]
        }
      ]
    },
    {
      "cell_type": "markdown",
      "source": [
        "QUESTION 6"
      ],
      "metadata": {
        "id": "k_Ms0JpdDYlm"
      }
    },
    {
      "cell_type": "code",
      "source": [
        "n=int(input(\"Enter n : \"))\n",
        "if(n%2==0) :\n",
        "    print(n,\" is even number\")\n",
        "else:\n",
        "    print(n,\" is odd number\")    "
      ],
      "metadata": {
        "colab": {
          "base_uri": "https://localhost:8080/"
        },
        "id": "bK7jpkUv_0YJ",
        "outputId": "0162b16f-6f9d-40dc-a7f1-050c056230e0"
      },
      "execution_count": 2,
      "outputs": [
        {
          "output_type": "stream",
          "name": "stdout",
          "text": [
            "Enter n : 6\n",
            "6  is even number\n"
          ]
        }
      ]
    }
  ]
}